{
 "cells": [
  {
   "cell_type": "code",
   "execution_count": null,
   "id": "95cecc66",
   "metadata": {},
   "outputs": [
    {
     "name": "stdout",
     "output_type": "stream",
     "text": [
      "Result = 720\n"
     ]
    }
   ],
   "source": [
    "my_list = [1, 2, 3, 4,5,6]\n",
    "\n",
    "# Multiply all items in a list\n",
    "\n",
    "result = 1\n",
    "for num in my_list:\n",
    "    result *= num\n",
    "\n",
    "print(\"Result =\", result)\n"
   ]
  },
  {
   "cell_type": "code",
   "execution_count": 5,
   "id": "41871cd1",
   "metadata": {},
   "outputs": [
    {
     "name": "stdout",
     "output_type": "stream",
     "text": [
      "Sorted list: [(2, 1), (1, 2), (2, 3), (4, 4), (3, 4), (3, 5)]\n"
     ]
    }
   ],
   "source": [
    "# Sort List of Tuples by Last Element\n",
    "\n",
    "sample_list = [(1, 2), (3, 5), (4, 4), (2, 3), (3, 4), (2, 1)]\n",
    "\n",
    "# Sort using lambda to target the last element of each tuple\n",
    "sorted_list = sorted(sample_list, key=lambda x: x[-1])\n",
    "\n",
    "print(\"Sorted list:\", sorted_list)\n"
   ]
  },
  {
   "cell_type": "code",
   "execution_count": 6,
   "id": "58f26acb",
   "metadata": {},
   "outputs": [
    {
     "name": "stdout",
     "output_type": "stream",
     "text": [
      "Combined dictionary: {'a': 400, 'b': 620, 'c': 90, 'd': 210}\n"
     ]
    }
   ],
   "source": [
    "# Combine two dictionaries by adding common key values\n",
    "\n",
    "d1 = {'a': 100, 'b': 170, 'c': 90}\n",
    "d2 = {'a': 300, 'b': 450, 'd': 210}\n",
    "\n",
    "# Combine values\n",
    "result = d1.copy()\n",
    "for key in d2:\n",
    "    if key in result:\n",
    "        result[key] += d2[key]\n",
    "    else:\n",
    "        result[key] = d2[key]\n",
    "\n",
    "print(\"Combined dictionary:\", result)\n",
    "\n"
   ]
  },
  {
   "cell_type": "code",
   "execution_count": 7,
   "id": "acae17f1",
   "metadata": {},
   "outputs": [
    {
     "name": "stdout",
     "output_type": "stream",
     "text": [
      "Square dictionary: {1: 1, 2: 4, 3: 9, 4: 16, 5: 25, 6: 36, 7: 49, 8: 64}\n"
     ]
    }
   ],
   "source": [
    "# Generate a dictionary of squares\n",
    "\n",
    "n = 8  # You can replace this with int(input(\"Enter a number: \"))\n",
    "\n",
    "squares = {}\n",
    "for i in range(1, n + 1):\n",
    "    squares[i] = i * i\n",
    "\n",
    "print(\"Square dictionary:\", squares)"
   ]
  },
  {
   "cell_type": "code",
   "execution_count": 8,
   "id": "4b1d059c",
   "metadata": {},
   "outputs": [
    {
     "name": "stdout",
     "output_type": "stream",
     "text": [
      "Sorted list: [('item2', '35.10'), ('item3', '24.51'), ('item1', '13.27')]\n"
     ]
    }
   ],
   "source": [
    "# Sort a Tuple by its float element(Descending order)\n",
    "\n",
    "# Sample list of tuples\n",
    "items = [('item1', '13.27'), ('item2', '35.10'), ('item3', '24.51')]\n",
    "\n",
    "# Sort based on float value of second element, descending\n",
    "sorted_items = sorted(items, key=lambda x: float(x[1]), reverse=True)\n",
    "\n",
    "print(\"Sorted list:\", sorted_items)\n"
   ]
  },
  {
   "cell_type": "code",
   "execution_count": 18,
   "id": "46420246",
   "metadata": {},
   "outputs": [
    {
     "name": "stdout",
     "output_type": "stream",
     "text": [
      "Set: {0, 1, 2, 3, 4}\n"
     ]
    }
   ],
   "source": [
    "# Create a set\n",
    "my_set = {0, 1, 2, 3, 4}\n",
    "print(\"Set:\", my_set)\n"
   ]
  },
  {
   "cell_type": "code",
   "execution_count": 19,
   "id": "c518eb59",
   "metadata": {},
   "outputs": [
    {
     "name": "stdout",
     "output_type": "stream",
     "text": [
      "Iterating over set:\n",
      "0\n",
      "1\n",
      "2\n",
      "3\n",
      "4\n"
     ]
    }
   ],
   "source": [
    "# Iterate over a set\n",
    "print(\"Iterating over set:\")\n",
    "for item in my_set:\n",
    "    print(item)\n"
   ]
  },
  {
   "cell_type": "code",
   "execution_count": 20,
   "id": "c3913e0d",
   "metadata": {},
   "outputs": [
    {
     "name": "stdout",
     "output_type": "stream",
     "text": [
      "After adding: {0, 1, 2, 3, 4, 5, 6, 7}\n"
     ]
    }
   ],
   "source": [
    "# Add members to a set\n",
    "my_set.add(5)\n",
    "my_set.update([6, 7])\n",
    "print(\"After adding:\", my_set)\n"
   ]
  },
  {
   "cell_type": "code",
   "execution_count": 21,
   "id": "dd2d7cfe",
   "metadata": {},
   "outputs": [
    {
     "name": "stdout",
     "output_type": "stream",
     "text": [
      "After removing: {0, 1, 2, 4, 5, 7}\n"
     ]
    }
   ],
   "source": [
    "# Remove items from a set\n",
    "my_set.remove(3)  \n",
    "my_set.discard(6)\n",
    "print(\"After removing:\", my_set)\n"
   ]
  },
  {
   "cell_type": "code",
   "execution_count": null,
   "id": "f831f6cd",
   "metadata": {},
   "outputs": [],
   "source": []
  }
 ],
 "metadata": {
  "kernelspec": {
   "display_name": "Python 3",
   "language": "python",
   "name": "python3"
  },
  "language_info": {
   "codemirror_mode": {
    "name": "ipython",
    "version": 3
   },
   "file_extension": ".py",
   "mimetype": "text/x-python",
   "name": "python",
   "nbconvert_exporter": "python",
   "pygments_lexer": "ipython3",
   "version": "3.11.9"
  }
 },
 "nbformat": 4,
 "nbformat_minor": 5
}
