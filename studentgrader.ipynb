{
 "cells": [
  {
   "cell_type": "code",
   "execution_count": 7,
   "id": "d93aa7a2",
   "metadata": {},
   "outputs": [],
   "source": [
    "students = {\n",
    "    'Elaine': 85,\n",
    "    'Germaine': 100,\n",
    "    'Victor Jr': 99.9,\n",
    "    'Ayo': 73,\n",
    "    'Eva': 58,\n",
    "    'Azeez': 79,\n",
    "    'Grace': 88,\n",
    "    'Anastasie': 34,\n",
    "    'Ivy': 60,\n",
    "    'Leonel': 45\n",
    "}\n"
   ]
  },
  {
   "cell_type": "code",
   "execution_count": 9,
   "id": "b2931de3",
   "metadata": {},
   "outputs": [],
   "source": [
    "# Defining a Grade function\n",
    "def assign_grade(score):\n",
    "    if score >= 95:\n",
    "        return 'A+'\n",
    "    elif score >= 90:\n",
    "        return 'A'\n",
    "    elif score >= 85:\n",
    "        return 'B+'\n",
    "    elif score >= 80:\n",
    "        return 'B'\n",
    "    elif score >= 75:\n",
    "        return 'C+'\n",
    "    elif score >= 70:\n",
    "        return 'C'\n",
    "    elif score >= 65:\n",
    "        return 'D+'\n",
    "    elif score >= 60:\n",
    "        return 'D'\n",
    "    elif score >= 55:\n",
    "        return 'E+'\n",
    "    elif score >= 50:\n",
    "        return 'E'\n",
    "    else:\n",
    "        return 'F'\n"
   ]
  },
  {
   "cell_type": "code",
   "execution_count": 10,
   "id": "1892ef67",
   "metadata": {},
   "outputs": [],
   "source": [
    "# Analyse score\n",
    "grades = {}\n",
    "total_score = 0\n",
    "grade_distribution = {\n",
    "    'A+': 0, 'A': 0, 'B+': 0, 'B': 0, 'C+': 0, 'C': 0,\n",
    "    'D+': 0, 'D': 0, 'E+': 0, 'E': 0, 'F': 0\n",
    "}\n",
    "\n",
    "for student, score in students.items():\n",
    "    grade = assign_grade(score)\n",
    "    grades[student] = grade\n",
    "    grade_distribution[grade] += 1\n",
    "    total_score += score\n",
    "\n",
    "average_score = total_score / len(students)\n",
    "highest_score = max(students.values())\n",
    "lowest_score = min(students.values())\n",
    "\n",
    "top_student = [name for name, score in students.items() if score == highest_score][0]\n",
    "bottom_student = [name for name, score in students.items() if score == lowest_score][0]\n"
   ]
  },
  {
   "cell_type": "code",
   "execution_count": 11,
   "id": "17e0222a",
   "metadata": {},
   "outputs": [
    {
     "name": "stdout",
     "output_type": "stream",
     "text": [
      "📊 Student Grades:\n",
      "Elaine: Grade B+\n",
      "Germaine: Grade A+\n",
      "Victor Jr: Grade A+\n",
      "Ayo: Grade C\n",
      "Eva: Grade E+\n",
      "Azeez: Grade C+\n",
      "Grace: Grade B+\n",
      "Anastasie: Grade F\n",
      "Ivy: Grade D\n",
      "Leonel: Grade F\n",
      "\n",
      "🎯 Average Score: 72.19\n",
      "🏅 Highest Scorer: Germaine (100)\n",
      "💀 Lowest Scorer: Anastasie (34)\n"
     ]
    }
   ],
   "source": [
    "# Show results\n",
    "print(\"📊 Student Grades:\")\n",
    "for name, grade in grades.items():\n",
    "    print(f\"{name}: Grade {grade}\")\n",
    "\n",
    "print(f\"\\n🎯 Average Score: {average_score:.2f}\")\n",
    "print(f\"🏅 Highest Scorer: {top_student} ({highest_score})\")\n",
    "print(f\"💀 Lowest Scorer: {bottom_student} ({lowest_score})\")\n"
   ]
  },
  {
   "cell_type": "code",
   "execution_count": 13,
   "id": "45ca3413",
   "metadata": {},
   "outputs": [
    {
     "data": {
      "image/png": "[encoded data removed]",
      "text/plain": [
       "<Figure size 640x480 with 1 Axes>"
      ]
     },
     "metadata": {},
     "output_type": "display_data"
    }
   ],
   "source": [
    "# Grade Distribution\n",
    "import matplotlib.pyplot as plt\n",
    "plt.bar(grade_distribution.keys(), grade_distribution.values(), color='skyblue')\n",
    "plt.title(\"Grade Distribution\")\n",
    "plt.xlabel(\"Grades\")\n",
    "plt.ylabel(\"Number of Students\")\n",
    "plt.show()\n"
   ]
  },
  {
   "cell_type": "code",
   "execution_count": null,
   "id": "fbacfcaa",
   "metadata": {},
   "outputs": [],
   "source": []
  }
 ],
 "metadata": {
  "kernelspec": {
   "display_name": "Python 3",
   "language": "python",
   "name": "python3"
  },
  "language_info": {
   "codemirror_mode": {
    "name": "ipython",
    "version": 3
   },
   "file_extension": ".py",
   "mimetype": "text/x-python",
   "name": "python",
   "nbconvert_exporter": "python",
   "pygments_lexer": "ipython3",
   "version": "3.11.9"
  }
 },
 "nbformat": 4,
 "nbformat_minor": 5
}
